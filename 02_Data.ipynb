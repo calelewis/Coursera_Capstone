{
 "cells": [
  {
   "cell_type": "markdown",
   "metadata": {},
   "source": [
    "## Data\n",
    "\n",
    "A dataset of traffic collisions within the Seattle-area was provided by the SPD and recorded by Traffic Records. This dataset can be downloaded by __[clicking here](https://s3.us.cloud-object-storage.appdomain.cloud/cf-courses-data/CognitiveClass/DP0701EN/version-2/Data-Collisions.csv)__. This dataset includes reported collisions from 2004-present. \n",
    "\n",
    "This dataset includes a number of factors related to the reported incident. A ‘severity’ parameter has been included that corresponds to the severity of the collision. This parameter ranges from unknown, property damage, injury, serious injury, and fatality. This parameter will be evaluated to determine the hazardous driving conditions.\n",
    "\n",
    "This dataset provides a number of details to determine these hazardous conditions. Particular factors include:\n",
    "-\tDate\n",
    "-\tDriver distraction\t(Y/N)\n",
    "-\tDriver under the influence (Y/N)\n",
    "-\tRoad Conditions (Dry, Wet, etc)\n",
    "-\tLight Conditions (Daylight, Dark, etc)\n",
    "-\tSpeeding involved (Y/N)\n",
    "-\tParked Car (Y/N)\n",
    "\n"
   ]
  },
  {
   "cell_type": "code",
   "execution_count": null,
   "metadata": {},
   "outputs": [],
   "source": []
  }
 ],
 "metadata": {
  "kernelspec": {
   "display_name": "Python 3",
   "language": "python",
   "name": "python3"
  },
  "language_info": {
   "codemirror_mode": {
    "name": "ipython",
    "version": 3
   },
   "file_extension": ".py",
   "mimetype": "text/x-python",
   "name": "python",
   "nbconvert_exporter": "python",
   "pygments_lexer": "ipython3",
   "version": "3.6.10"
  }
 },
 "nbformat": 4,
 "nbformat_minor": 4
}
